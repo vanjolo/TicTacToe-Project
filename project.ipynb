{
 "cells": [
  {
   "cell_type": "code",
   "execution_count": 1,
   "metadata": {},
   "outputs": [],
   "source": [
    "import mysql.connector"
   ]
  },
  {
   "cell_type": "code",
   "execution_count": 11,
   "metadata": {},
   "outputs": [],
   "source": [
    "board = []\n",
    "for i in range(3):\n",
    "    row = []\n",
    "    for j in range(3):\n",
    "        row.append('X')\n",
    "    board.append(row)\n",
    "    "
   ]
  },
  {
   "cell_type": "code",
   "execution_count": 18,
   "metadata": {},
   "outputs": [
    {
     "name": "stdout",
     "output_type": "stream",
     "text": [
      "[[' ', ' ', ' '], [' ', ' ', ' '], [' ', ' ', ' ']]\n"
     ]
    }
   ],
   "source": [
    "test = [[' ' for i in range(3)] for j in range(3)]\n",
    "print(test)"
   ]
  },
  {
   "cell_type": "code",
   "execution_count": 12,
   "metadata": {},
   "outputs": [
    {
     "name": "stdout",
     "output_type": "stream",
     "text": [
      "[['X', 'X', 'X'], ['X', 'X', 'X'], ['X', 'X', 'X']]\n"
     ]
    }
   ],
   "source": [
    "print(board)"
   ]
  },
  {
   "cell_type": "code",
   "execution_count": 2,
   "metadata": {},
   "outputs": [],
   "source": [
    "def display_board(board):\n",
    "    for i in board:\n",
    "        print('| ', end = '')\n",
    "        print(*i,sep = ' | ', end = '')\n",
    "        print(' |')\n"
   ]
  },
  {
   "cell_type": "code",
   "execution_count": 14,
   "metadata": {},
   "outputs": [
    {
     "name": "stdout",
     "output_type": "stream",
     "text": [
      "| X | X | X |\n",
      "| X | X | X |\n",
      "| X | X | X |\n"
     ]
    }
   ],
   "source": [
    "display_board(board)"
   ]
  },
  {
   "cell_type": "code",
   "execution_count": 3,
   "metadata": {},
   "outputs": [],
   "source": [
    "def check_row(board, player):\n",
    "    for i in board:\n",
    "        if i.count(player) == 3:\n",
    "            return True\n",
    "    return False\n"
   ]
  },
  {
   "cell_type": "code",
   "execution_count": 4,
   "metadata": {},
   "outputs": [],
   "source": [
    "def check_columns(board, player):\n",
    "    for i in range(3):\n",
    "        if board[0][i] == board[1][i] == board[2][i] == player:\n",
    "            return True\n",
    "    return False"
   ]
  },
  {
   "cell_type": "code",
   "execution_count": 5,
   "metadata": {},
   "outputs": [],
   "source": [
    "def check_diagonals(board, player):\n",
    "    if board[0][0] == board[1][1] == board[2][2] == player:\n",
    "        return True\n",
    "    elif board[0][2] == board[1][1] == board[2][0] == player:\n",
    "        return True\n",
    "    return False"
   ]
  },
  {
   "cell_type": "code",
   "execution_count": 6,
   "metadata": {},
   "outputs": [],
   "source": [
    "def insert_winner(player_name):\n",
    "    mydb = mysql.connector.connect(\n",
    "    user=\"root\",\n",
    "    password=\"260600\",\n",
    "    database=\"tttscores\"\n",
    "    )\n",
    "\n",
    "    mycursor = mydb.cursor()\n",
    "    sql = \"INSERT INTO score (name, wins) VALUES (%s, %s)\"\n",
    "    val = (player_name, \"1\")\n",
    "    mycursor.execute(sql, val)\n",
    "\n",
    "    mydb.commit()\n",
    "    print('The winner was inserted into the database')\n",
    "    "
   ]
  },
  {
   "cell_type": "code",
   "execution_count": 7,
   "metadata": {},
   "outputs": [],
   "source": [
    "def display_leaderboard():\n",
    "    mydb = mysql.connector.connect(\n",
    "    user=\"root\",\n",
    "    password=\"260600\",\n",
    "    database=\"tttscores\"\n",
    "    )\n",
    "\n",
    "    mycursor = mydb.cursor()\n",
    "\n",
    "    mycursor.execute(\"select name, count(*) as c FROM score GROUP BY name ORDER BY c DESC\")\n",
    "\n",
    "    myresult = mycursor.fetchall()\n",
    "    print('Ranking | Player name | Score')\n",
    "    i = 1\n",
    "    for x in myresult:\n",
    "        print('{0:^8d}|{1:^13s}| {2:<d}'.format(i,x[0],x[1]))\n",
    "        i += 1\n",
    "        \n",
    "\n"
   ]
  },
  {
   "cell_type": "code",
   "execution_count": 8,
   "metadata": {},
   "outputs": [],
   "source": [
    "def main():\n",
    "    board = [[' ' for i in range(3)] for j in range(3)]\n",
    "    players = ['X','O'] \n",
    "    name_x = input('Player X enter name: ')\n",
    "    name_o = input('Player O enter name: ')\n",
    "    player_names = [name_x, name_o]\n",
    "    player = 0\n",
    "    while True:\n",
    "        print('Player',players[player],\"'s turn\")\n",
    "        row,column = input('Enter the row and column separated by the space: ').split()\n",
    "        row = int(row)\n",
    "        column = int(column)\n",
    "        board[row - 1][column - 1] = players[player]\n",
    "        display_board(board) \n",
    "        flat_board = [j for i in board for j in i ] \n",
    "    \n",
    "        if check_row(board,players[player]) or check_columns(board,players[player]) or check_diagonals(board,players[player]):\n",
    "            print('Player',players[player],'wins!' )\n",
    "            insert_winner(player_names[player])\n",
    "            display_leaderboard()\n",
    "            break\n",
    "        elif ' ' not in flat_board:\n",
    "            print('Game is draw')\n",
    "            display_leaderboard()\n",
    "            break\n",
    "        if player == 0:\n",
    "            player = 1\n",
    "        else:\n",
    "            player = 0"
   ]
  },
  {
   "cell_type": "code",
   "execution_count": 9,
   "metadata": {},
   "outputs": [
    {
     "name": "stdout",
     "output_type": "stream",
     "text": [
      "Player X 's turn\n",
      "| X |   |   |\n",
      "|   |   |   |\n",
      "|   |   |   |\n",
      "Player O 's turn\n",
      "| X | O |   |\n",
      "|   |   |   |\n",
      "|   |   |   |\n",
      "Player X 's turn\n",
      "| X | O | X |\n",
      "|   |   |   |\n",
      "|   |   |   |\n",
      "Player O 's turn\n",
      "| X | O | X |\n",
      "|   | O |   |\n",
      "|   |   |   |\n",
      "Player X 's turn\n",
      "| X | O | X |\n",
      "|   | O | X |\n",
      "|   |   |   |\n",
      "Player O 's turn\n",
      "| X | O | X |\n",
      "|   | O | X |\n",
      "|   | O |   |\n",
      "Player O wins!\n",
      "The winner was inserted into the database\n",
      "Ranking | Player name | Score\n",
      "   1    |     Sam     | 3\n",
      "   2    |    John     | 2\n",
      "   3    |    Mike     | 1\n",
      "   4    |     Ana     | 1\n"
     ]
    }
   ],
   "source": [
    "main()"
   ]
  },
  {
   "cell_type": "code",
   "execution_count": 11,
   "metadata": {},
   "outputs": [
    {
     "ename": "ProgrammingError",
     "evalue": "1045 (28000): Access denied for user '3W3BHT4RDU'@'188.255.153.94' (using password: YES)",
     "output_type": "error",
     "traceback": [
      "\u001b[1;31m---------------------------------------------------------------------------\u001b[0m",
      "\u001b[1;31mMySQLInterfaceError\u001b[0m                       Traceback (most recent call last)",
      "File \u001b[1;32mc:\\Users\\vanja\\AppData\\Local\\Programs\\Python\\Python310\\lib\\site-packages\\mysql\\connector\\connection_cext.py:263\u001b[0m, in \u001b[0;36mCMySQLConnection._open_connection\u001b[1;34m(self)\u001b[0m\n\u001b[0;32m    262\u001b[0m \u001b[39mtry\u001b[39;00m:\n\u001b[1;32m--> 263\u001b[0m     \u001b[39mself\u001b[39m\u001b[39m.\u001b[39m_cmysql\u001b[39m.\u001b[39mconnect(\u001b[39m*\u001b[39m\u001b[39m*\u001b[39mcnx_kwargs)\n\u001b[0;32m    264\u001b[0m     \u001b[39mself\u001b[39m\u001b[39m.\u001b[39m_cmysql\u001b[39m.\u001b[39mconverter_str_fallback \u001b[39m=\u001b[39m \u001b[39mself\u001b[39m\u001b[39m.\u001b[39m_converter_str_fallback\n",
      "\u001b[1;31mMySQLInterfaceError\u001b[0m: Access denied for user '3W3BHT4RDU'@'188.255.153.94' (using password: YES)",
      "\nThe above exception was the direct cause of the following exception:\n",
      "\u001b[1;31mProgrammingError\u001b[0m                          Traceback (most recent call last)",
      "\u001b[1;32mc:\\Users\\vanja\\Desktop\\folder\\project.ipynb Cell 14\u001b[0m in \u001b[0;36m<cell line: 3>\u001b[1;34m()\u001b[0m\n\u001b[0;32m      <a href='vscode-notebook-cell:/c%3A/Users/vanja/Desktop/folder/project.ipynb#X16sZmlsZQ%3D%3D?line=0'>1</a>\u001b[0m \u001b[39mimport\u001b[39;00m \u001b[39mmysql\u001b[39;00m\u001b[39m.\u001b[39;00m\u001b[39mconnector\u001b[39;00m\n\u001b[1;32m----> <a href='vscode-notebook-cell:/c%3A/Users/vanja/Desktop/folder/project.ipynb#X16sZmlsZQ%3D%3D?line=2'>3</a>\u001b[0m mydb \u001b[39m=\u001b[39m mysql\u001b[39m.\u001b[39;49mconnector\u001b[39m.\u001b[39;49mconnect(\n\u001b[0;32m      <a href='vscode-notebook-cell:/c%3A/Users/vanja/Desktop/folder/project.ipynb#X16sZmlsZQ%3D%3D?line=3'>4</a>\u001b[0m   host\u001b[39m=\u001b[39;49m\u001b[39m\"\u001b[39;49m\u001b[39mremotemysql.com\u001b[39;49m\u001b[39m\"\u001b[39;49m,\n\u001b[0;32m      <a href='vscode-notebook-cell:/c%3A/Users/vanja/Desktop/folder/project.ipynb#X16sZmlsZQ%3D%3D?line=4'>5</a>\u001b[0m   port \u001b[39m=\u001b[39;49m \u001b[39m3306\u001b[39;49m,\n\u001b[0;32m      <a href='vscode-notebook-cell:/c%3A/Users/vanja/Desktop/folder/project.ipynb#X16sZmlsZQ%3D%3D?line=5'>6</a>\u001b[0m   user\u001b[39m=\u001b[39;49m\u001b[39m\"\u001b[39;49m\u001b[39m3W3BHT4RDU\u001b[39;49m\u001b[39m\"\u001b[39;49m,\n\u001b[0;32m      <a href='vscode-notebook-cell:/c%3A/Users/vanja/Desktop/folder/project.ipynb#X16sZmlsZQ%3D%3D?line=6'>7</a>\u001b[0m   password\u001b[39m=\u001b[39;49m\u001b[39m\"\u001b[39;49m\u001b[39m6TIVjzhcme\u001b[39;49m\u001b[39m\"\u001b[39;49m\n\u001b[0;32m      <a href='vscode-notebook-cell:/c%3A/Users/vanja/Desktop/folder/project.ipynb#X16sZmlsZQ%3D%3D?line=7'>8</a>\u001b[0m )\n\u001b[0;32m     <a href='vscode-notebook-cell:/c%3A/Users/vanja/Desktop/folder/project.ipynb#X16sZmlsZQ%3D%3D?line=9'>10</a>\u001b[0m mycursor \u001b[39m=\u001b[39m mydb\u001b[39m.\u001b[39mcursor()\n\u001b[0;32m     <a href='vscode-notebook-cell:/c%3A/Users/vanja/Desktop/folder/project.ipynb#X16sZmlsZQ%3D%3D?line=11'>12</a>\u001b[0m mycursor\u001b[39m.\u001b[39mexecute(\u001b[39m\"\u001b[39m\u001b[39mCREATE DATABASE tttscores\u001b[39m\u001b[39m\"\u001b[39m)\n",
      "File \u001b[1;32mc:\\Users\\vanja\\AppData\\Local\\Programs\\Python\\Python310\\lib\\site-packages\\mysql\\connector\\pooling.py:286\u001b[0m, in \u001b[0;36mconnect\u001b[1;34m(*args, **kwargs)\u001b[0m\n\u001b[0;32m    283\u001b[0m         \u001b[39mraise\u001b[39;00m \u001b[39mImportError\u001b[39;00m(ERROR_NO_CEXT)\n\u001b[0;32m    285\u001b[0m \u001b[39mif\u001b[39;00m CMySQLConnection \u001b[39mand\u001b[39;00m \u001b[39mnot\u001b[39;00m use_pure:\n\u001b[1;32m--> 286\u001b[0m     \u001b[39mreturn\u001b[39;00m CMySQLConnection(\u001b[39m*\u001b[39margs, \u001b[39m*\u001b[39m\u001b[39m*\u001b[39mkwargs)\n\u001b[0;32m    287\u001b[0m \u001b[39mreturn\u001b[39;00m MySQLConnection(\u001b[39m*\u001b[39margs, \u001b[39m*\u001b[39m\u001b[39m*\u001b[39mkwargs)\n",
      "File \u001b[1;32mc:\\Users\\vanja\\AppData\\Local\\Programs\\Python\\Python310\\lib\\site-packages\\mysql\\connector\\connection_cext.py:101\u001b[0m, in \u001b[0;36mCMySQLConnection.__init__\u001b[1;34m(self, **kwargs)\u001b[0m\n\u001b[0;32m     98\u001b[0m \u001b[39msuper\u001b[39m()\u001b[39m.\u001b[39m\u001b[39m__init__\u001b[39m()\n\u001b[0;32m    100\u001b[0m \u001b[39mif\u001b[39;00m kwargs:\n\u001b[1;32m--> 101\u001b[0m     \u001b[39mself\u001b[39m\u001b[39m.\u001b[39mconnect(\u001b[39m*\u001b[39m\u001b[39m*\u001b[39mkwargs)\n",
      "File \u001b[1;32mc:\\Users\\vanja\\AppData\\Local\\Programs\\Python\\Python310\\lib\\site-packages\\mysql\\connector\\abstracts.py:1095\u001b[0m, in \u001b[0;36mMySQLConnectionAbstract.connect\u001b[1;34m(self, **kwargs)\u001b[0m\n\u001b[0;32m   1092\u001b[0m     \u001b[39mself\u001b[39m\u001b[39m.\u001b[39mconfig(\u001b[39m*\u001b[39m\u001b[39m*\u001b[39mkwargs)\n\u001b[0;32m   1094\u001b[0m \u001b[39mself\u001b[39m\u001b[39m.\u001b[39mdisconnect()\n\u001b[1;32m-> 1095\u001b[0m \u001b[39mself\u001b[39;49m\u001b[39m.\u001b[39;49m_open_connection()\n\u001b[0;32m   1096\u001b[0m \u001b[39m# Server does not allow to run any other statement different from ALTER\u001b[39;00m\n\u001b[0;32m   1097\u001b[0m \u001b[39m# when user's password has been expired.\u001b[39;00m\n\u001b[0;32m   1098\u001b[0m \u001b[39mif\u001b[39;00m \u001b[39mnot\u001b[39;00m \u001b[39mself\u001b[39m\u001b[39m.\u001b[39m_client_flags \u001b[39m&\u001b[39m ClientFlag\u001b[39m.\u001b[39mCAN_HANDLE_EXPIRED_PASSWORDS:\n",
      "File \u001b[1;32mc:\\Users\\vanja\\AppData\\Local\\Programs\\Python\\Python310\\lib\\site-packages\\mysql\\connector\\connection_cext.py:268\u001b[0m, in \u001b[0;36mCMySQLConnection._open_connection\u001b[1;34m(self)\u001b[0m\n\u001b[0;32m    266\u001b[0m         \u001b[39mself\u001b[39m\u001b[39m.\u001b[39mconverter\u001b[39m.\u001b[39mstr_fallback \u001b[39m=\u001b[39m \u001b[39mself\u001b[39m\u001b[39m.\u001b[39m_converter_str_fallback\n\u001b[0;32m    267\u001b[0m \u001b[39mexcept\u001b[39;00m MySQLInterfaceError \u001b[39mas\u001b[39;00m err:\n\u001b[1;32m--> 268\u001b[0m     \u001b[39mraise\u001b[39;00m get_mysql_exception(\n\u001b[0;32m    269\u001b[0m         msg\u001b[39m=\u001b[39merr\u001b[39m.\u001b[39mmsg, errno\u001b[39m=\u001b[39merr\u001b[39m.\u001b[39merrno, sqlstate\u001b[39m=\u001b[39merr\u001b[39m.\u001b[39msqlstate\n\u001b[0;32m    270\u001b[0m     ) \u001b[39mfrom\u001b[39;00m \u001b[39merr\u001b[39;00m\n\u001b[0;32m    272\u001b[0m \u001b[39mself\u001b[39m\u001b[39m.\u001b[39m_do_handshake()\n",
      "\u001b[1;31mProgrammingError\u001b[0m: 1045 (28000): Access denied for user '3W3BHT4RDU'@'188.255.153.94' (using password: YES)"
     ]
    }
   ],
   "source": [
    "import mysql.connector\n",
    "\n",
    "mydb = mysql.connector.connect(\n",
    "  host=\"remotemysql.com\",\n",
    "  port = 3306,\n",
    "  user=\"3W3BHT4RDU\",\n",
    "  password=\"6TIVjzhcme\"\n",
    ")\n",
    "\n",
    "mycursor = mydb.cursor()\n",
    "\n",
    "mycursor.execute(\"CREATE DATABASE tttscores\")"
   ]
  },
  {
   "cell_type": "code",
   "execution_count": 16,
   "metadata": {},
   "outputs": [],
   "source": [
    "mydb = mysql.connector.connect(\n",
    "  host=\"remotemysql.com\",\n",
    "  port = 3306,\n",
    "  user=\"3W3BHT4RDU\",\n",
    "  password=\"6TlVjzhCme\",\n",
    "  database=\"3W3BHT4RDU\"\n",
    ")\n",
    "\n",
    "mycursor = mydb.cursor()\n",
    "\n",
    "mycursor.execute(\"CREATE TABLE score (name VARCHAR(255), wins INT(7))\")"
   ]
  },
  {
   "cell_type": "code",
   "execution_count": 1,
   "metadata": {},
   "outputs": [
    {
     "ename": "NameError",
     "evalue": "name 'mycursor' is not defined",
     "output_type": "error",
     "traceback": [
      "\u001b[1;31m---------------------------------------------------------------------------\u001b[0m",
      "\u001b[1;31mNameError\u001b[0m                                 Traceback (most recent call last)",
      "\u001b[1;32mc:\\Users\\vanja\\Desktop\\folder\\project.ipynb Cell 16\u001b[0m in \u001b[0;36m<cell line: 3>\u001b[1;34m()\u001b[0m\n\u001b[0;32m      <a href='vscode-notebook-cell:/c%3A/Users/vanja/Desktop/folder/project.ipynb#X21sZmlsZQ%3D%3D?line=0'>1</a>\u001b[0m sql \u001b[39m=\u001b[39m \u001b[39m\"\u001b[39m\u001b[39mINSERT INTO score (name, wins) VALUES (\u001b[39m\u001b[39m%s\u001b[39;00m\u001b[39m, \u001b[39m\u001b[39m%s\u001b[39;00m\u001b[39m)\u001b[39m\u001b[39m\"\u001b[39m\n\u001b[0;32m      <a href='vscode-notebook-cell:/c%3A/Users/vanja/Desktop/folder/project.ipynb#X21sZmlsZQ%3D%3D?line=1'>2</a>\u001b[0m val \u001b[39m=\u001b[39m (\u001b[39m\"\u001b[39m\u001b[39mSam\u001b[39m\u001b[39m\"\u001b[39m, \u001b[39m\"\u001b[39m\u001b[39m1\u001b[39m\u001b[39m\"\u001b[39m)\n\u001b[1;32m----> <a href='vscode-notebook-cell:/c%3A/Users/vanja/Desktop/folder/project.ipynb#X21sZmlsZQ%3D%3D?line=2'>3</a>\u001b[0m mycursor\u001b[39m.\u001b[39mexecute(sql, val)\n\u001b[0;32m      <a href='vscode-notebook-cell:/c%3A/Users/vanja/Desktop/folder/project.ipynb#X21sZmlsZQ%3D%3D?line=4'>5</a>\u001b[0m mydb\u001b[39m.\u001b[39mcommit()\n",
      "\u001b[1;31mNameError\u001b[0m: name 'mycursor' is not defined"
     ]
    }
   ],
   "source": [
    "sql = \"INSERT INTO score (name, wins) VALUES (%s, %s)\"\n",
    "val = (\"Sam\", \"1\")\n",
    "mycursor.execute(sql, val)\n",
    "\n",
    "mydb.commit()"
   ]
  },
  {
   "cell_type": "code",
   "execution_count": 13,
   "metadata": {},
   "outputs": [
    {
     "name": "stdout",
     "output_type": "stream",
     "text": [
      "('John', 1)\n",
      "('John', 1)\n",
      "('Mike', 1)\n",
      "('Sam', 1)\n",
      "('Sam', 1)\n",
      "('Sam', 1)\n"
     ]
    }
   ],
   "source": [
    "mycursor.execute(\"SELECT * FROM score\")\n",
    "\n",
    "myresult = mycursor.fetchall()\n",
    "\n",
    "for x in myresult:\n",
    "  print(x)"
   ]
  },
  {
   "cell_type": "code",
   "execution_count": 18,
   "metadata": {},
   "outputs": [
    {
     "name": "stdout",
     "output_type": "stream",
     "text": [
      "('Sam', 3)\n",
      "('John', 2)\n",
      "('Mike', 1)\n"
     ]
    }
   ],
   "source": [
    "mycursor.execute(\"select name, count(*) as c FROM score GROUP BY name ORDER BY c DESC\")\n",
    "\n",
    "myresult = mycursor.fetchall()\n",
    "\n",
    "for x in myresult:\n",
    "  print(x)\n",
    "\n",
    "\n"
   ]
  },
  {
   "cell_type": "code",
   "execution_count": 2,
   "metadata": {},
   "outputs": [
    {
     "name": "stdout",
     "output_type": "stream",
     "text": [
      "error\n"
     ]
    }
   ],
   "source": [
    "try:\n",
    "    7/0\n",
    "except:\n",
    "    print('error')"
   ]
  },
  {
   "cell_type": "code",
   "execution_count": 2,
   "metadata": {},
   "outputs": [],
   "source": [
    "import mysql.connector\n",
    "mydb = mysql.connector.connect(\n",
    "  host=\"remotemysql.com\",\n",
    "  port = 3306,\n",
    "  user=\"3W3BHT4RDU\",\n",
    "  password=\"6TlVjzhCme\",\n",
    "  database=\"3W3BHT4RDU\"\n",
    ")\n",
    "\n",
    "mycursor = mydb.cursor()\n",
    "\n",
    "mycursor.execute(\"CREATE TABLE users (username VARCHAR(255), password VARCHAR(255))\")"
   ]
  },
  {
   "cell_type": "code",
   "execution_count": 8,
   "metadata": {},
   "outputs": [],
   "source": [
    "sql = \"INSERT INTO users (username, password) VALUES (%s, %s)\"\n",
    "val = (\"Ana\", \"123!\")\n",
    "mycursor.execute(sql, val)\n",
    "\n",
    "mydb.commit()\n"
   ]
  },
  {
   "cell_type": "code",
   "execution_count": 11,
   "metadata": {},
   "outputs": [
    {
     "name": "stdout",
     "output_type": "stream",
     "text": [
      "Registration successful!\n"
     ]
    }
   ],
   "source": [
    "def registration():\n",
    "  mydb = mysql.connector.connect(\n",
    "    host=\"remotemysql.com\",\n",
    "    port = 3306,\n",
    "    user=\"3W3BHT4RDU\",\n",
    "    password=\"6TlVjzhCme\",\n",
    "    database=\"3W3BHT4RDU\"\n",
    "  )\n",
    "\n",
    "  mycursor = mydb.cursor()\n",
    "\n",
    "  mycursor.execute(\"SELECT * FROM users\")\n",
    "\n",
    "  myresult = mycursor.fetchall()\n",
    "  while True:\n",
    "    username = input('Enter username: ')\n",
    "    password = input('Enter password: ')\n",
    "    users = [i[0] for i in myresult]\n",
    "    if username in users:\n",
    "        print('The username is already taken try diffrent one.')\n",
    "    else:\n",
    "        sql = \"INSERT INTO users (username, password) VALUES (%s, %s)\"\n",
    "        val = (username, password)\n",
    "        mycursor.execute(sql, val)\n",
    "\n",
    "        mydb.commit()\n",
    "        print('Registration successful!')\n",
    "        break\n",
    "  return username\n",
    "    \n",
    "    \n"
   ]
  },
  {
   "cell_type": "code",
   "execution_count": 14,
   "metadata": {},
   "outputs": [
    {
     "name": "stdout",
     "output_type": "stream",
     "text": [
      "Incorrect. Try again!\n",
      "Login successful!\n"
     ]
    }
   ],
   "source": [
    "def login():\n",
    "\n",
    "    mydb = mysql.connector.connect(\n",
    "    host=\"remotemysql.com\",\n",
    "    port = 3306,\n",
    "    user=\"3W3BHT4RDU\",\n",
    "    password=\"6TlVjzhCme\",\n",
    "    database=\"3W3BHT4RDU\"\n",
    "    )\n",
    "\n",
    "    mycursor = mydb.cursor()\n",
    "\n",
    "    mycursor.execute(\"SELECT * FROM users\")\n",
    "\n",
    "    myresult = mycursor.fetchall()\n",
    "\n",
    "    while True:\n",
    "        username = input('Enter username: ')\n",
    "        password = input('Enter password: ')\n",
    "        found = False\n",
    "\n",
    "        for user, pwd in myresult:\n",
    "            if user == username and pwd == password:\n",
    "                print('Login successful!')\n",
    "                found = True\n",
    "                break\n",
    "        if not found:\n",
    "            print(\"Incorrect. Try again!\")\n",
    "        else:\n",
    "            break\n",
    "    return username"
   ]
  },
  {
   "cell_type": "code",
   "execution_count": null,
   "metadata": {},
   "outputs": [],
   "source": []
  }
 ],
 "metadata": {
  "kernelspec": {
   "display_name": "Python 3.10.5 64-bit",
   "language": "python",
   "name": "python3"
  },
  "language_info": {
   "codemirror_mode": {
    "name": "ipython",
    "version": 3
   },
   "file_extension": ".py",
   "mimetype": "text/x-python",
   "name": "python",
   "nbconvert_exporter": "python",
   "pygments_lexer": "ipython3",
   "version": "3.10.5"
  },
  "orig_nbformat": 4,
  "vscode": {
   "interpreter": {
    "hash": "1735705d6b757235dd0f6c1b48c48cccc2242baf978cb745c191b20bf32c1525"
   }
  }
 },
 "nbformat": 4,
 "nbformat_minor": 2
}
